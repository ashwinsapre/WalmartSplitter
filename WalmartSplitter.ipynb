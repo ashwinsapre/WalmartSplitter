{
 "cells": [
  {
   "cell_type": "code",
   "execution_count": 124,
   "id": "6ae11383",
   "metadata": {},
   "outputs": [],
   "source": [
    "from bs4 import BeautifulSoup\n",
    "import json"
   ]
  },
  {
   "cell_type": "code",
   "execution_count": 119,
   "id": "10de2019",
   "metadata": {},
   "outputs": [],
   "source": [
    "f = open(\"order.html\", \"r\")\n",
    "htmltxt = f.read()"
   ]
  },
  {
   "cell_type": "code",
   "execution_count": 127,
   "id": "a65f4bf9",
   "metadata": {},
   "outputs": [],
   "source": [
    "parsed_html = BeautifulSoup(htmltxt)\n",
    "items = {}\n",
    "#print(parsed_html.prettify())\n",
    "for item in parsed_html.find_all(\"div\", {\"class\": \"dn print-items-list\"}):\n",
    "    #print(item)\n",
    "    item_name = item.findChild(\"div\", {\"class\":\"pv2 flex justify-between\"}).findChild(\"div\", {\"class\":\"w_U9_0 w_sD6D w_QcqU\"}).string\n",
    "    item_cost = float(item.findChild(\"div\", {\"class\":\"print-bill-price\"}).findChild(\"div\", {\"class\":\"w_U9_0 w_sD6D w_QcqU\"}).string[1:]);\n",
    "    items[item_name]=item_cost\n",
    "    if item.findChild(\"div\", {\"class\":\"print-bill-type\"}).findChild(\"div\", {\"class\":\"w_U9_0 w_sD6D w_QcqU\"}).string == \"Unavailable\":\n",
    "        items[item_name]=0\n",
    "    #for div in item.findChild(\"div\", {\"class\":\"w_U9_0 w_sD6D w_QcqU\"}):\n",
    "        #print(div)\n",
    "    '''for temp in item.findChild(\"div\", {\"class\":\"print-bill-type\"}):\n",
    "        if str(temp.findChild(\"div\", {\"class\":\"w_U9_0 w_sD6D w_QcqU\"})) != \"Unavailable\":\n",
    "            for d in item.findChild(\"div\", {\"class\":\"print-bill-price\"}).findChild(\"div\", {\"class\":\"w_U9_0 w_sD6D w_QcqU\"}):\n",
    "                print(d)\n",
    "                total+=float(str(d[1:]))'''\n",
    "items['ORDER TOTAL'] = float(parsed_html.find(\"div\", {\"class\":\"flex justify-between pv3 bill-order-total-payment\"}).findAll(\"h2\", {\"class\":\"w_kV33 w_LD4J w_mvVb f5 f4-m lh-copy\"})[-1].string[1:])\n",
    "items['TAXES AND TIP'] = round(items['ORDER TOTAL'] - sum([items[k] for k in items.keys() if k!=\"ORDER TOTAL\"]),2)\n",
    "with open('items.json', 'w') as fp:\n",
    "    json.dump(items, fp)"
   ]
  }
 ],
 "metadata": {
  "kernelspec": {
   "display_name": "Python 3 (ipykernel)",
   "language": "python",
   "name": "python3"
  },
  "language_info": {
   "codemirror_mode": {
    "name": "ipython",
    "version": 3
   },
   "file_extension": ".py",
   "mimetype": "text/x-python",
   "name": "python",
   "nbconvert_exporter": "python",
   "pygments_lexer": "ipython3",
   "version": "3.10.10"
  }
 },
 "nbformat": 4,
 "nbformat_minor": 5
}
